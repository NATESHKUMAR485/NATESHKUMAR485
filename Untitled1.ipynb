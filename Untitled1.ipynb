{
  "nbformat": 4,
  "nbformat_minor": 0,
  "metadata": {
    "colab": {
      "name": "Untitled1.ipynb",
      "provenance": [],
      "collapsed_sections": [],
      "authorship_tag": "ABX9TyN8j4jYJI682CkHzKgmatcu",
      "include_colab_link": true
    },
    "kernelspec": {
      "name": "python3",
      "display_name": "Python 3"
    },
    "language_info": {
      "name": "python"
    }
  },
  "cells": [
    {
      "cell_type": "markdown",
      "metadata": {
        "id": "view-in-github",
        "colab_type": "text"
      },
      "source": [
        "<a href=\"https://colab.research.google.com/github/NATESHKUMAR485/NATESHKUMAR485/blob/main/Untitled1.ipynb\" target=\"_parent\"><img src=\"https://colab.research.google.com/assets/colab-badge.svg\" alt=\"Open In Colab\"/></a>"
      ]
    },
    {
      "cell_type": "code",
      "execution_count": 3,
      "metadata": {
        "colab": {
          "base_uri": "https://localhost:8080/"
        },
        "id": "vStNQjj9_No5",
        "outputId": "774f8b8b-cb0f-41be-9186-88ca7ba1a3e6"
      },
      "outputs": [
        {
          "output_type": "stream",
          "name": "stdout",
          "text": [
            "Requirement already satisfied: facile in /usr/local/lib/python3.7/dist-packages (1.5)\n",
            "Requirement already satisfied: importlib-metadata<5.0.0,>=4.6.1 in /usr/local/lib/python3.7/dist-packages (from facile) (4.11.2)\n",
            "Requirement already satisfied: typing-extensions>=3.6.4 in /usr/local/lib/python3.7/dist-packages (from importlib-metadata<5.0.0,>=4.6.1->facile) (3.10.0.2)\n",
            "Requirement already satisfied: zipp>=0.5 in /usr/local/lib/python3.7/dist-packages (from importlib-metadata<5.0.0,>=4.6.1->facile) (3.7.0)\n",
            "solution found : a= 2 , b= 0, c= 3\n"
          ]
        }
      ],
      "source": [
        "#!pip install facile\n",
        "\n",
        "import facile\n",
        "\n",
        "\n",
        "a = facile.variable([0,2])\n",
        "b = facile.variable([0,2])\n",
        "c = facile.variable([0,3])\n",
        "d = facile.variable([0,2])\n",
        "\n",
        "\n",
        "facile.constraint(a > b )\n",
        "facile.constraint(b != c)\n",
        "facile.constraint(a != c)\n",
        "\n",
        "\n",
        "#ARC CONSISTENCE(FOR NEXT CLASS)\n",
        "\n",
        "\n",
        "\n",
        "sol = facile.solve([a,b,c])\n",
        "#sol1 = facile.solve([c,d])\n",
        "\n",
        "assert sol, \"no solution found\"\n",
        "print(\"solution found : a= {} , b= {}, c= {}\". format(a.value(), b.value(), c.value()))\n"
      ]
    }
  ]
}